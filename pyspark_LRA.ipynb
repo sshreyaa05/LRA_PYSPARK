{
  "cells": [
    {
      "cell_type": "code",
      "execution_count": 34,
      "metadata": {
        "colab": {
          "base_uri": "https://localhost:8080/"
        },
        "id": "7kZ0-7QuDTC7",
        "outputId": "d409a961-225b-4214-9be5-d0fd5a0b34df"
      },
      "outputs": [
        {
          "output_type": "stream",
          "name": "stdout",
          "text": [
            "Requirement already satisfied: pyspark in /usr/local/lib/python3.11/dist-packages (3.5.4)\n",
            "Requirement already satisfied: py4j==0.10.9.7 in /usr/local/lib/python3.11/dist-packages (from pyspark) (0.10.9.7)\n"
          ]
        }
      ],
      "source": [
        "! pip install pyspark"
      ]
    },
    {
      "cell_type": "code",
      "execution_count": 35,
      "metadata": {
        "id": "dCCMxUH4DlaH"
      },
      "outputs": [],
      "source": [
        "## IMPORT NECESSARY LIBRARIES\n",
        "from pyspark.sql import SparkSession\n",
        "from pyspark.ml.regression import LinearRegression\n",
        "from pyspark.ml.feature import VectorAssembler\n",
        "from pyspark.ml.evaluation import RegressionEvaluator"
      ]
    },
    {
      "cell_type": "code",
      "execution_count": 36,
      "metadata": {
        "id": "ufSOG-bBDlWe"
      },
      "outputs": [],
      "source": [
        "## CREATING A SPARK SESSION\n",
        "# Start a Spark session\n",
        "spark = SparkSession.builder.appName(\"LinearRegressionProject\").getOrCreate()"
      ]
    },
    {
      "cell_type": "code",
      "execution_count": 37,
      "metadata": {
        "id": "gdjJcslQDlUq",
        "colab": {
          "base_uri": "https://localhost:8080/"
        },
        "outputId": "2880514d-3d30-4894-f509-2bef62956d3f"
      },
      "outputs": [
        {
          "output_type": "stream",
          "name": "stdout",
          "text": [
            "+---------------+-------+\n",
            "|YearsExperience| Salary|\n",
            "+---------------+-------+\n",
            "|            1.1|39343.0|\n",
            "|            1.3|46205.0|\n",
            "|            1.5|37731.0|\n",
            "|            2.0|43525.0|\n",
            "|            2.2|39891.0|\n",
            "+---------------+-------+\n",
            "only showing top 5 rows\n",
            "\n"
          ]
        }
      ],
      "source": [
        "## LOADING THE SALARY DATASET\n",
        "data = spark.read.csv(\"Salary_Data.csv\", header=True, inferSchema=True)\n",
        "\n",
        "\n",
        "\n",
        "## DISPLAYING THE 1ST FEW ROWS OF THE DATAFRAME\n",
        "data.show(5)"
      ]
    },
    {
      "cell_type": "code",
      "execution_count": 38,
      "metadata": {
        "id": "7ZQ_Ek_bDlSm"
      },
      "outputs": [],
      "source": [
        "## DATA PREPROCESSING TO ASSEMBLE THE YEARS EXPERIENCE COLUMN INTO A FEATURE COLUMN FOR LINEAR REGRESSION\n",
        "assembler = VectorAssembler(inputCols=[\"YearsExperience\"], outputCol=\"feature\")\n",
        "assembled_data = assembler.transform(data)\n"
      ]
    },
    {
      "cell_type": "code",
      "execution_count": 39,
      "metadata": {
        "id": "h-PdZIQIDlQS",
        "colab": {
          "base_uri": "https://localhost:8080/"
        },
        "outputId": "8fbf36c5-d5dc-464a-cf36-3bc5909c9c30"
      },
      "outputs": [
        {
          "output_type": "stream",
          "name": "stdout",
          "text": [
            "+---------------+-------+-------+\n",
            "|YearsExperience| Salary|feature|\n",
            "+---------------+-------+-------+\n",
            "|            1.1|39343.0|  [1.1]|\n",
            "|            1.3|46205.0|  [1.3]|\n",
            "|            1.5|37731.0|  [1.5]|\n",
            "|            2.0|43525.0|  [2.0]|\n",
            "|            2.2|39891.0|  [2.2]|\n",
            "|            2.9|56642.0|  [2.9]|\n",
            "|            3.0|60150.0|  [3.0]|\n",
            "|            3.2|54445.0|  [3.2]|\n",
            "|            3.2|64445.0|  [3.2]|\n",
            "|            3.7|57189.0|  [3.7]|\n",
            "|            3.9|63218.0|  [3.9]|\n",
            "|            4.0|55794.0|  [4.0]|\n",
            "|            4.0|56957.0|  [4.0]|\n",
            "|            4.1|57081.0|  [4.1]|\n",
            "|            4.5|61111.0|  [4.5]|\n",
            "|            4.9|67938.0|  [4.9]|\n",
            "|            5.1|66029.0|  [5.1]|\n",
            "|            5.3|83088.0|  [5.3]|\n",
            "|            5.9|81363.0|  [5.9]|\n",
            "|            6.0|93940.0|  [6.0]|\n",
            "+---------------+-------+-------+\n",
            "only showing top 20 rows\n",
            "\n"
          ]
        }
      ],
      "source": [
        "## SHOW THE TRANSFORMED DATA WITH THE 'feature' COLUMN\n",
        "assembled_data.select(\"YearsExperience\", \"Salary\", \"feature\").show()"
      ]
    },
    {
      "cell_type": "code",
      "execution_count": 40,
      "metadata": {
        "id": "Pd8mkPxEDlNt"
      },
      "outputs": [],
      "source": [
        "## SPLITTING THE DATA INTO TRAINING AND TESTING SET\n",
        "train_data, test_data = assembled_data.randomSplit([0.8, 0.2], seed=1234)\n"
      ]
    },
    {
      "cell_type": "code",
      "execution_count": 41,
      "metadata": {
        "id": "-WJH9F8PDlLT",
        "colab": {
          "base_uri": "https://localhost:8080/"
        },
        "outputId": "593387b3-ac9c-4987-92e3-067e03303c38"
      },
      "outputs": [
        {
          "output_type": "stream",
          "name": "stdout",
          "text": [
            "Coefficient is: [9645.93926054687]\n",
            "Bias term is: 24815.60012255437\n"
          ]
        }
      ],
      "source": [
        "## TRAINING THE LINEAR REGRESSION MODEL\n",
        "lr = LinearRegression(featuresCol=\"feature\", labelCol=\"Salary\")\n",
        "\n",
        "lr_model = lr.fit(train_data)\n",
        "\n",
        "print(\"Coefficient is:\", lr_model.coefficients)\n",
        "print(\"Bias term is:\", lr_model.intercept)"
      ]
    },
    {
      "cell_type": "code",
      "execution_count": 42,
      "metadata": {
        "id": "sa8tx4puDlI0",
        "colab": {
          "base_uri": "https://localhost:8080/"
        },
        "outputId": "6bd4948a-daab-496d-dc77-9d1032e6b350"
      },
      "outputs": [
        {
          "output_type": "stream",
          "name": "stdout",
          "text": [
            "+---------------+--------+------------------+\n",
            "|YearsExperience|  Salary|        prediction|\n",
            "+---------------+--------+------------------+\n",
            "|            1.3| 46205.0|37355.321161265296|\n",
            "|            2.2| 39891.0| 46036.66649575748|\n",
            "|            7.1| 98273.0| 93301.76887243714|\n",
            "|            8.7|109431.0|108735.27168931213|\n",
            "|            9.0|105582.0| 111629.0534674762|\n",
            "|            9.5|116969.0|116452.02309774962|\n",
            "|            9.6|112635.0|117416.61702380431|\n",
            "+---------------+--------+------------------+\n",
            "\n"
          ]
        }
      ],
      "source": [
        "## MAKING PREDICTIONS ON THE TEST DATA AND DISPLAYING THEM\n",
        "lr_predictions = lr_model.transform(test_data)\n",
        "\n",
        "lr_predictions.select(\"YearsExperience\", \"Salary\", \"prediction\").show()"
      ]
    },
    {
      "cell_type": "code",
      "execution_count": 43,
      "metadata": {
        "colab": {
          "base_uri": "https://localhost:8080/"
        },
        "id": "N_btyHVzDlGY",
        "outputId": "65d1ead1-08a8-49ed-c1f6-64f02d4b69ca"
      },
      "outputs": [
        {
          "output_type": "stream",
          "name": "stdout",
          "text": [
            "Root Mean Squared Error (RMSE) on test data: 5358.320514463983\n"
          ]
        }
      ],
      "source": [
        "## MODEL EVALUATION\n",
        "evaluator = RegressionEvaluator(labelCol=\"Salary\", predictionCol=\"prediction\", metricName=\"rmse\")\n",
        "\n",
        "rmse = evaluator.evaluate(lr_predictions)\n",
        "print(\"Root Mean Squared Error (RMSE) on test data:\", rmse)"
      ]
    },
    {
      "cell_type": "code",
      "execution_count": 44,
      "metadata": {
        "colab": {
          "base_uri": "https://localhost:8080/"
        },
        "id": "vF3wXvNwDlED",
        "outputId": "fceb16fb-1c69-46ef-f4e3-b950fea601fd"
      },
      "outputs": [
        {
          "output_type": "stream",
          "name": "stdout",
          "text": [
            "R-squared on test data: 0.968385475310239\n",
            "Adjusted R-squared: 0.9672563851427476\n"
          ]
        }
      ],
      "source": [
        "## MODEL ADEQUACY USING R_SQUARE SCORE AND ADJUSTED R_SQUARED\n",
        "evaluator.setMetricName(\"r2\")\n",
        "r2 = evaluator.evaluate(lr_predictions)\n",
        "print(\"R-squared on test data:\", r2)\n",
        "\n",
        "\n",
        "n = assembled_data.count()\n",
        "p = len(lr_model.coefficients)\n",
        "\n",
        "\n",
        "adj_r2 = 1 - (1 - r2) * (n - 1) / (n - p - 1)\n",
        "print(\"Adjusted R-squared:\", adj_r2)\n"
      ]
    }
  ],
  "metadata": {
    "colab": {
      "provenance": []
    },
    "kernelspec": {
      "display_name": "Python 3",
      "name": "python3"
    },
    "language_info": {
      "name": "python"
    }
  },
  "nbformat": 4,
  "nbformat_minor": 0
}